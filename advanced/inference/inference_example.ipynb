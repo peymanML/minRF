{
 "cells": [
  {
   "cell_type": "markdown",
   "metadata": {},
   "source": []
  },
  {
   "cell_type": "code",
   "execution_count": null,
   "metadata": {},
   "outputs": [],
   "source": [
    "from main import RF\n",
    "from mmdit import MMDiT_for_IN1K\n",
    "import torch\n",
    "\n",
    "\n",
    "\n",
    "rf = RF(\n",
    "    MMDiT_for_IN1K(\n",
    "        in_channels=4,\n",
    "        out_channels=4,\n",
    "        dim=2560,\n",
    "        global_conddim=2560,\n",
    "        n_layers=24,\n",
    "        n_heads=8,\n",
    "    ),\n",
    "    True,\n",
    ").cuda()\n",
    "\n",
    "rf.load_state_dict(torch.load('/home/host/simo/ckpts/5b_2/model_57345/ema1.pt')) # checkpoint after getting high loss\n",
    "rf.eval()\n",
    "\n",
    "    "
   ]
  },
  {
   "cell_type": "code",
   "execution_count": null,
   "metadata": {},
   "outputs": [],
   "source": [
    "\n",
    "conds = [142, 145, 933, 849, 94, 333, 980, 22, 77]\n",
    "\n",
    "L = len(conds)\n",
    "#conds = [1, ] * 4\n",
    "conds = torch.tensor(conds).cuda()\n",
    "init_noise = torch.randn(L, 4, 32, 32).cuda()\n",
    "#conds = torch.randint(0, 999, (L,)).cuda()\n",
    "STEPSIZE = 50\n",
    "images = rf.sample_with_xps(init_noise, conds, null_cond = torch.tensor([1000] * L).cuda(), sample_steps = STEPSIZE, cfg = 7.0)"
   ]
  },
  {
   "cell_type": "code",
   "execution_count": null,
   "metadata": {},
   "outputs": [],
   "source": [
    "from diffusers.image_processor import VaeImageProcessor\n",
    "from diffusers.models import AutoencoderKL\n",
    "\n",
    "vae = AutoencoderKL.from_pretrained(\"stabilityai/sdxl-vae\").to(\"cuda:0\")"
   ]
  },
  {
   "cell_type": "code",
   "execution_count": null,
   "metadata": {},
   "outputs": [],
   "source": [
    "images_for_grid = [[] for _ in range(L)]\n",
    "\n",
    "for i, labidx in enumerate(conds[:L]):\n",
    "    for t in range(STEPSIZE):\n",
    "        x = vae.decode(images[t][i : i + 1].cuda()/0.13025).sample\n",
    "        img = VaeImageProcessor().postprocess(\n",
    "            image=x.detach(), do_denormalize=[True, True]\n",
    "        )[0]\n",
    "        images_for_grid[i].append(img)"
   ]
  },
  {
   "cell_type": "code",
   "execution_count": null,
   "metadata": {},
   "outputs": [],
   "source": [
    "# plot 4 of them in grid\n",
    "import PIL.Image as Image\n",
    "grid_images = []\n",
    "import math\n",
    "sL = math.ceil(math.sqrt(L))\n",
    "for t in range(STEPSIZE):\n",
    "    \n",
    "    grid = Image.new('RGB', (256*sL, 256*sL))\n",
    "    for i in range(L):\n",
    "        img = images_for_grid[i][t]\n",
    " \n",
    "        grid.paste(img, (256 * (i % sL), 256 * (i // sL)))\n",
    "    grid_images.append(grid)\n",
    "\n",
    "# make it gif\n",
    "# make last image lnger\n",
    "grid_images += [grid_images[-1]] * 15\n",
    "grid_images[-1]"
   ]
  },
  {
   "cell_type": "code",
   "execution_count": null,
   "metadata": {},
   "outputs": [],
   "source": [
    "conds\n",
    "142, 145, 933, 849, "
   ]
  },
  {
   "cell_type": "code",
   "execution_count": null,
   "metadata": {},
   "outputs": [],
   "source": [
    "grid_images[0].save('out_IN5.4b.gif', save_all=True, append_images=grid_images[1:], duration=150, loop=0)\n"
   ]
  },
  {
   "cell_type": "code",
   "execution_count": null,
   "metadata": {},
   "outputs": [],
   "source": []
  }
 ],
 "metadata": {
  "kernelspec": {
   "display_name": "py39cuda",
   "language": "python",
   "name": "python3"
  },
  "language_info": {
   "codemirror_mode": {
    "name": "ipython",
    "version": 3
   },
   "file_extension": ".py",
   "mimetype": "text/x-python",
   "name": "python",
   "nbconvert_exporter": "python",
   "pygments_lexer": "ipython3",
   "version": "3.9.19"
  }
 },
 "nbformat": 4,
 "nbformat_minor": 2
}
